{
 "cells": [
  {
   "cell_type": "code",
   "execution_count": 7,
   "id": "7910442c",
   "metadata": {},
   "outputs": [],
   "source": [
    "# !pip install -r requirements.txt"
   ]
  },
  {
   "cell_type": "code",
   "execution_count": 18,
   "id": "bb0aea43",
   "metadata": {},
   "outputs": [],
   "source": [
    "import tensorflow.compat.v1 as tf"
   ]
  },
  {
   "cell_type": "code",
   "execution_count": 15,
   "id": "7a6cb0a8",
   "metadata": {},
   "outputs": [
    {
     "name": "stdout",
     "output_type": "stream",
     "text": [
      "Requirement already satisfied: python-dotenv in /home/ec2-user/anaconda3/envs/tensorflow_p36/lib/python3.6/site-packages (0.19.2)\n",
      "\u001b[33mWARNING: You are using pip version 21.2.4; however, version 21.3.1 is available.\n",
      "You should consider upgrading via the '/home/ec2-user/anaconda3/envs/tensorflow_p36/bin/python -m pip install --upgrade pip' command.\u001b[0m\n"
     ]
    }
   ],
   "source": [
    "!pip install python-dotenv"
   ]
  },
  {
   "cell_type": "code",
   "execution_count": 8,
   "id": "042e858d",
   "metadata": {},
   "outputs": [],
   "source": [
    "import tindetheus"
   ]
  },
  {
   "cell_type": "code",
   "execution_count": 3,
   "id": "391711df",
   "metadata": {},
   "outputs": [],
   "source": [
    "# import tindetheus.facenet_clone.download_and_extract as extract"
   ]
  },
  {
   "cell_type": "code",
   "execution_count": 8,
   "id": "4b4f8239",
   "metadata": {},
   "outputs": [
    {
     "name": "stdout",
     "output_type": "stream",
     "text": [
      "Downloading file to 20180402-114759.zip\n",
      "Extracting file to \n"
     ]
    }
   ],
   "source": [
    "#  extract.download_and_extract_file('20180402-114759', '')"
   ]
  },
  {
   "cell_type": "code",
   "execution_count": 7,
   "id": "b2d3cf1b",
   "metadata": {},
   "outputs": [
    {
     "name": "stdout",
     "output_type": "stream",
     "text": [
      "Downloading file to 20170512-110547.zip\n",
      "Extracting file to \n"
     ]
    }
   ],
   "source": [
    "# extract.download_and_extract_file('20170512-110547', '')"
   ]
  },
  {
   "cell_type": "code",
   "execution_count": 2,
   "id": "df3d069b",
   "metadata": {},
   "outputs": [],
   "source": [
    "import tindetheus.export_embeddings as ee"
   ]
  },
  {
   "cell_type": "code",
   "execution_count": 4,
   "id": "524ef6eb",
   "metadata": {},
   "outputs": [],
   "source": [
    "model_dir='tindetheus/facenet_clone/extracted_models/20170512-110547/20170512-110547.pb'\n",
    "data_dir='TinderOneFaceOnlyFullImage'"
   ]
  },
  {
   "cell_type": "code",
   "execution_count": 5,
   "id": "b4a25d62",
   "metadata": {},
   "outputs": [
    {
     "name": "stdout",
     "output_type": "stream",
     "text": [
      "Model filename: tindetheus/facenet_clone/extracted_models/20170512-110547/20170512-110547.pb\n",
      "Number of images:  24532\n",
      "Number of batches:  25\n",
      "Completed batch 1 of 25\n",
      "Completed batch 2 of 25\n",
      "Completed batch 3 of 25\n",
      "Completed batch 4 of 25\n",
      "Completed batch 5 of 25\n",
      "Completed batch 6 of 25\n",
      "Completed batch 7 of 25\n",
      "Completed batch 8 of 25\n",
      "Completed batch 9 of 25\n",
      "Completed batch 10 of 25\n",
      "Completed batch 11 of 25\n",
      "Completed batch 12 of 25\n",
      "Completed batch 13 of 25\n",
      "Completed batch 14 of 25\n",
      "Completed batch 15 of 25\n",
      "Completed batch 16 of 25\n",
      "Completed batch 17 of 25\n",
      "Completed batch 18 of 25\n",
      "Completed batch 19 of 25\n",
      "Completed batch 20 of 25\n",
      "Completed batch 21 of 25\n",
      "Completed batch 22 of 25\n",
      "Completed batch 23 of 25\n",
      "Completed batch 24 of 25\n",
      "Completed batch 25 of 25\n",
      "Run time:  766.2907462120056\n"
     ]
    }
   ],
   "source": [
    "ee.main(model_dir=model_dir, data_dir=data_dir)"
   ]
  },
  {
   "cell_type": "code",
   "execution_count": 12,
   "id": "6277d7d9",
   "metadata": {},
   "outputs": [],
   "source": [
    "# import shutil\n",
    "\n",
    "# shutil.rmtree('embeddings_20170512-110547')"
   ]
  },
  {
   "cell_type": "code",
   "execution_count": 7,
   "id": "eab3f5f7",
   "metadata": {},
   "outputs": [],
   "source": [
    "model_dir2='tindetheus/facenet_clone/extracted_models/20180402-114759/20180402-114759.pb'"
   ]
  },
  {
   "cell_type": "code",
   "execution_count": 8,
   "id": "2ee13c02",
   "metadata": {},
   "outputs": [
    {
     "name": "stdout",
     "output_type": "stream",
     "text": [
      "Model filename: tindetheus/facenet_clone/extracted_models/20180402-114759/20180402-114759.pb\n",
      "Number of images:  24532\n",
      "Number of batches:  25\n",
      "Completed batch 1 of 25\n",
      "Completed batch 2 of 25\n",
      "Completed batch 3 of 25\n",
      "Completed batch 4 of 25\n",
      "Completed batch 5 of 25\n",
      "Completed batch 6 of 25\n",
      "Completed batch 7 of 25\n",
      "Completed batch 8 of 25\n",
      "Completed batch 9 of 25\n",
      "Completed batch 10 of 25\n",
      "Completed batch 11 of 25\n",
      "Completed batch 12 of 25\n",
      "Completed batch 13 of 25\n",
      "Completed batch 14 of 25\n",
      "Completed batch 15 of 25\n",
      "Completed batch 16 of 25\n",
      "Completed batch 17 of 25\n",
      "Completed batch 18 of 25\n",
      "Completed batch 19 of 25\n",
      "Completed batch 20 of 25\n",
      "Completed batch 21 of 25\n",
      "Completed batch 22 of 25\n",
      "Completed batch 23 of 25\n",
      "Completed batch 24 of 25\n",
      "Completed batch 25 of 25\n",
      "Run time:  360.723628282547\n"
     ]
    }
   ],
   "source": [
    "ee.main(model_dir=model_dir2, data_dir=data_dir)"
   ]
  },
  {
   "cell_type": "code",
   "execution_count": 9,
   "id": "70e917aa",
   "metadata": {},
   "outputs": [
    {
     "name": "stdout",
     "output_type": "stream",
     "text": [
      "updating: embeddings_20170512-110547_v2/ (stored 0%)\n",
      "updating: embeddings_20170512-110547_v2/label_strings.npy (deflated 100%)\n",
      "updating: embeddings_20170512-110547_v2/embeddings.npy (deflated 46%)\n",
      "updating: embeddings_20170512-110547_v2/labels_med_profile.npy (deflated 97%)\n",
      "updating: embeddings_20170512-110547_v2/get_embeddings_by_profile.ipynb (deflated 82%)\n",
      "updating: embeddings_20170512-110547_v2/.ipynb_checkpoints/ (stored 0%)\n",
      "updating: embeddings_20170512-110547_v2/.ipynb_checkpoints/get_embeddings_by_profile-checkpoint.ipynb (deflated 79%)\n",
      "updating: embeddings_20170512-110547_v2/labels.npy (deflated 100%)\n",
      "updating: embeddings_20170512-110547_v2/embeddings_med_profile.npy (deflated 43%)\n",
      "updating: embeddings_20170512-110547_v2/labels_min_profile.npy (deflated 97%)\n",
      "updating: embeddings_20170512-110547_v2/embeddings_min_profile.npy (deflated 46%)\n",
      "updating: embeddings_20170512-110547_v2/labels_avg_profile.npy (deflated 97%)\n",
      "updating: embeddings_20170512-110547_v2/embeddings_avg_profile.npy (deflated 39%)\n",
      "updating: embeddings_20170512-110547_v2/image_list.npy (deflated 92%)\n",
      "  adding: embeddings_20170512-110547_v2/labels_max_profile.npy (deflated 97%)\n",
      "  adding: embeddings_20170512-110547_v2/embeddings_max_profile.npy (deflated 46%)\n"
     ]
    }
   ],
   "source": [
    " !zip -r embeddings_20170512_110547_v2.zip embeddings_20170512-110547_v2"
   ]
  },
  {
   "cell_type": "code",
   "execution_count": 10,
   "id": "77e58959",
   "metadata": {},
   "outputs": [
    {
     "name": "stdout",
     "output_type": "stream",
     "text": [
      "  adding: embeddings_20180402-114759_v2/ (stored 0%)\n",
      "  adding: embeddings_20180402-114759_v2/label_strings.npy (deflated 100%)\n",
      "  adding: embeddings_20180402-114759_v2/embeddings.npy (deflated 46%)\n",
      "  adding: embeddings_20180402-114759_v2/labels_max_profile.npy (deflated 97%)\n",
      "  adding: embeddings_20180402-114759_v2/labels_med_profile.npy (deflated 97%)\n",
      "  adding: embeddings_20180402-114759_v2/get_embeddings_by_profile.ipynb (deflated 82%)\n",
      "  adding: embeddings_20180402-114759_v2/.ipynb_checkpoints/ (stored 0%)\n",
      "  adding: embeddings_20180402-114759_v2/.ipynb_checkpoints/get_embeddings_by_profile-checkpoint.ipynb (deflated 82%)\n",
      "  adding: embeddings_20180402-114759_v2/labels.npy (deflated 100%)\n",
      "  adding: embeddings_20180402-114759_v2/embeddings_med_profile.npy (deflated 43%)\n",
      "  adding: embeddings_20180402-114759_v2/embeddings_max_profile.npy (deflated 46%)\n",
      "  adding: embeddings_20180402-114759_v2/labels_min_profile.npy (deflated 97%)\n",
      "  adding: embeddings_20180402-114759_v2/embeddings_min_profile.npy (deflated 46%)\n",
      "  adding: embeddings_20180402-114759_v2/labels_avg_profile.npy (deflated 97%)\n",
      "  adding: embeddings_20180402-114759_v2/embeddings_avg_profile.npy (deflated 39%)\n",
      "  adding: embeddings_20180402-114759_v2/image_list.npy (deflated 92%)\n"
     ]
    }
   ],
   "source": [
    " !zip -r embeddings_20180402_114759_v2.zip embeddings_20180402-114759_v2"
   ]
  },
  {
   "cell_type": "code",
   "execution_count": 36,
   "id": "0195001b",
   "metadata": {},
   "outputs": [],
   "source": [
    "from tindetheus import machine_learning as ml"
   ]
  },
  {
   "cell_type": "code",
   "execution_count": 35,
   "id": "6c4bbdf2",
   "metadata": {},
   "outputs": [
    {
     "data": {
      "text/plain": [
       "<module 'tindetheus.machine_learning' from '/home/ec2-user/SageMaker/tindetheus-master/tindetheus/machine_learning.py'>"
      ]
     },
     "execution_count": 35,
     "metadata": {},
     "output_type": "execute_result"
    }
   ],
   "source": [
    "ml"
   ]
  },
  {
   "cell_type": "code",
   "execution_count": null,
   "id": "f04dec11",
   "metadata": {},
   "outputs": [],
   "source": []
  }
 ],
 "metadata": {
  "kernelspec": {
   "display_name": "conda_amazonei_tensorflow2_p36",
   "language": "python",
   "name": "conda_amazonei_tensorflow2_p36"
  },
  "language_info": {
   "codemirror_mode": {
    "name": "ipython",
    "version": 3
   },
   "file_extension": ".py",
   "mimetype": "text/x-python",
   "name": "python",
   "nbconvert_exporter": "python",
   "pygments_lexer": "ipython3",
   "version": "3.6.13"
  }
 },
 "nbformat": 4,
 "nbformat_minor": 5
}
