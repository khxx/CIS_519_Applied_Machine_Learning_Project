{
 "cells": [
  {
   "cell_type": "code",
   "execution_count": 1,
   "id": "d8704ed9",
   "metadata": {},
   "outputs": [],
   "source": [
    "import numpy as np\n",
    "import pandas as pd"
   ]
  },
  {
   "cell_type": "code",
   "execution_count": 2,
   "id": "eaa1f1d4",
   "metadata": {},
   "outputs": [],
   "source": [
    "def calc_avg_median_min_max_emb(stats): #avg, med, min, max\n",
    "    # a function to create a vector of n average embeddings for each\n",
    "    # tinder profile\n",
    "    # get the embeddings per profile\n",
    "    labels = np.load('labels.npy', allow_pickle=True)\n",
    "    # label_strings = np.load('label_strings.npy', allow_pickle=True)\n",
    "    embeddings = np.load('embeddings.npy', allow_pickle=True)\n",
    "    image_list = np.load('image_list.npy', allow_pickle=True)\n",
    "\n",
    "    # determine the n dimension of embeddings\n",
    "    n_emb = embeddings.shape[1]\n",
    "\n",
    "    # find the maximum number of images in a profile\n",
    "    split_image_list = []\n",
    "    profile_list = []\n",
    "    for i in image_list:\n",
    "        split_image_list.append(i.split('.')[1])\n",
    "        # split_image_list.append(i.replace('/', '.').split('.'))\n",
    "        profile_list.append(i.split('.')[0])\n",
    "\n",
    "    # convert profile list to pandas index\n",
    "    pl = pd.Index(profile_list)\n",
    "    pl_unique = pl.value_counts()\n",
    "\n",
    "    # get the summar statics of pl\n",
    "    pl_describe = pl_unique.describe()\n",
    "    print('Summary statistics of profiles with at least one detectable face')\n",
    "    print(pl_describe)\n",
    "    number_of_profiles = int(pl_describe[0])\n",
    "    # number_of_images = int(pl_describe[-1])\n",
    "\n",
    "    # convert the embeddings to a data frame\n",
    "    eb = pd.DataFrame(embeddings, index=pl)\n",
    "    dislike = pd.Series(labels, index=pl)\n",
    "    # if dislike == 1 it means I disliked the person!\n",
    "\n",
    "    # create a blank numpy array for embeddings\n",
    "    new_embeddings = np.zeros((number_of_profiles, n_emb))\n",
    "    new_labels = np.zeros(number_of_profiles)\n",
    "    for i, j in enumerate(pl_unique.index):\n",
    "        temp = eb.loc[j]\n",
    "\n",
    "        # if a profile has more than one face it will be a DataFrame\n",
    "        # else the profile will be a Series\n",
    "        if isinstance(temp, pd.DataFrame):\n",
    "            # get the average of each column\n",
    "            if stats == 'avg':\n",
    "                temp_embeddings = np.mean(temp.values, axis=0)\n",
    "            elif stats == 'med':\n",
    "                temp_embeddings = np.median(temp.values, axis=0)\n",
    "            elif stats == 'min':\n",
    "                temp_embeddings = np.min(temp.values, axis=0)\n",
    "            else:\n",
    "                temp_embeddings = np.max(temp.values, axis=0)\n",
    "        else:\n",
    "            temp_embeddings = temp.values\n",
    "\n",
    "        # save the new embeddings\n",
    "        new_embeddings[i] = temp_embeddings\n",
    "\n",
    "        # Save the profile label, 1 for dislike, 0 for like\n",
    "        new_labels[i] = dislike[j].max()\n",
    "\n",
    "    # save the files\n",
    "    np.save(f'embeddings_{stats}_profile.npy', new_embeddings)\n",
    "    np.save(f'labels_{stats}_profile.npy', new_labels)\n",
    "    return new_embeddings, new_labels"
   ]
  },
  {
   "cell_type": "code",
   "execution_count": 7,
   "id": "75e8ebc3",
   "metadata": {},
   "outputs": [],
   "source": [
    "def calc_avg_emb():\n",
    "    # a function to create a vector of n average embeddings for each\n",
    "    # tinder profile\n",
    "    # get the embeddings per profile\n",
    "    labels = np.load('labels.npy', allow_pickle=True)\n",
    "    # label_strings = np.load('label_strings.npy', allow_pickle=True)\n",
    "    embeddings = np.load('embeddings.npy', allow_pickle=True)\n",
    "    image_list = np.load('image_list.npy', allow_pickle=True)\n",
    "\n",
    "    # determine the n dimension of embeddings\n",
    "    n_emb = embeddings.shape[1]\n",
    "\n",
    "    # find the maximum number of images in a profile\n",
    "    split_image_list = []\n",
    "    profile_list = []\n",
    "    for i in image_list:\n",
    "        split_image_list.append(i.split('.')[1])\n",
    "        # split_image_list.append(i.replace('/', '.').split('.'))\n",
    "        profile_list.append(i.split('.')[0])\n",
    "\n",
    "    # convert profile list to pandas index\n",
    "    pl = pd.Index(profile_list)\n",
    "    pl_unique = pl.value_counts()\n",
    "\n",
    "    # get the summar statics of pl\n",
    "    pl_describe = pl_unique.describe()\n",
    "    print('Summary statistics of profiles with at least one detectable face')\n",
    "    print(pl_describe)\n",
    "    number_of_profiles = int(pl_describe[0])\n",
    "    # number_of_images = int(pl_describe[-1])\n",
    "\n",
    "    # convert the embeddings to a data frame\n",
    "    eb = pd.DataFrame(embeddings, index=pl)\n",
    "    dislike = pd.Series(labels, index=pl)\n",
    "    # if dislike == 1 it means I disliked the person!\n",
    "\n",
    "    # create a blank numpy array for embeddings\n",
    "    new_embeddings = np.zeros((number_of_profiles, n_emb))\n",
    "    new_labels = np.zeros(number_of_profiles)\n",
    "    for i, j in enumerate(pl_unique.index):\n",
    "        temp = eb.loc[j]\n",
    "\n",
    "        # if a profile has more than one face it will be a DataFrame\n",
    "        # else the profile will be a Series\n",
    "        if isinstance(temp, pd.DataFrame):\n",
    "            # get the average of each column\n",
    "            temp_embeddings = np.mean(temp.values, axis=0)\n",
    "        else:\n",
    "            temp_embeddings = temp.values\n",
    "\n",
    "        # save the new embeddings\n",
    "        new_embeddings[i] = temp_embeddings\n",
    "\n",
    "        # Save the profile label, 1 for dislike, 0 for like\n",
    "        new_labels[i] = dislike[j].max()\n",
    "\n",
    "    # save the files\n",
    "#     np.save('embeddings_avg_profile.npy', new_embeddings)\n",
    "#     np.save('labels_avg_profile.npy', new_labels)\n",
    "    return new_embeddings, new_labels\n"
   ]
  },
  {
   "cell_type": "code",
   "execution_count": 8,
   "id": "bceda0b3",
   "metadata": {},
   "outputs": [
    {
     "name": "stdout",
     "output_type": "stream",
     "text": [
      "Summary statistics of profiles with at least one detectable face\n",
      "count    8132.000000\n",
      "mean        3.016724\n",
      "std         1.344842\n",
      "min         1.000000\n",
      "25%         2.000000\n",
      "50%         3.000000\n",
      "75%         4.000000\n",
      "max        10.000000\n",
      "dtype: float64\n"
     ]
    },
    {
     "data": {
      "text/plain": [
       "(array([[-0.08516867, -0.0960011 ,  0.01026064, ..., -0.04686032,\n",
       "          0.13399079,  0.03843592],\n",
       "        [-0.05853223, -0.11806548,  0.07782068, ..., -0.05917085,\n",
       "          0.08974024,  0.03685835],\n",
       "        [-0.05148027, -0.12753478,  0.04967369, ..., -0.0115897 ,\n",
       "          0.08626622,  0.06416687],\n",
       "        ...,\n",
       "        [-0.03237536, -0.10986029, -0.05273964, ..., -0.04715952,\n",
       "          0.13395712, -0.00100789],\n",
       "        [ 0.01070913, -0.12045956,  0.07860527, ..., -0.03334678,\n",
       "          0.03928874,  0.03627693],\n",
       "        [-0.14070714, -0.06604623,  0.02883334, ..., -0.03452408,\n",
       "          0.07793716,  0.08409154]]),\n",
       " array([1., 0., 0., ..., 1., 0., 0.]))"
      ]
     },
     "execution_count": 8,
     "metadata": {},
     "output_type": "execute_result"
    }
   ],
   "source": [
    "calc_avg_emb()"
   ]
  },
  {
   "cell_type": "code",
   "execution_count": 3,
   "id": "46530be6",
   "metadata": {},
   "outputs": [
    {
     "name": "stdout",
     "output_type": "stream",
     "text": [
      "Summary statistics of profiles with at least one detectable face\n",
      "count    8132.000000\n",
      "mean        3.016724\n",
      "std         1.344842\n",
      "min         1.000000\n",
      "25%         2.000000\n",
      "50%         3.000000\n",
      "75%         4.000000\n",
      "max        10.000000\n",
      "dtype: float64\n"
     ]
    },
    {
     "data": {
      "text/plain": [
       "(array([[-0.08516867, -0.0960011 ,  0.01026064, ..., -0.04686032,\n",
       "          0.13399079,  0.03843592],\n",
       "        [-0.05853223, -0.11806548,  0.07782068, ..., -0.05917085,\n",
       "          0.08974024,  0.03685835],\n",
       "        [-0.05148027, -0.12753478,  0.04967369, ..., -0.0115897 ,\n",
       "          0.08626622,  0.06416687],\n",
       "        ...,\n",
       "        [-0.03237536, -0.10986029, -0.05273964, ..., -0.04715952,\n",
       "          0.13395712, -0.00100789],\n",
       "        [ 0.01070913, -0.12045956,  0.07860527, ..., -0.03334678,\n",
       "          0.03928874,  0.03627693],\n",
       "        [-0.14070714, -0.06604623,  0.02883334, ..., -0.03452408,\n",
       "          0.07793716,  0.08409154]]),\n",
       " array([1., 0., 0., ..., 1., 0., 0.]))"
      ]
     },
     "execution_count": 3,
     "metadata": {},
     "output_type": "execute_result"
    }
   ],
   "source": [
    "calc_avg_median_min_max_emb('avg')"
   ]
  },
  {
   "cell_type": "code",
   "execution_count": 4,
   "id": "e934f699",
   "metadata": {},
   "outputs": [
    {
     "name": "stdout",
     "output_type": "stream",
     "text": [
      "Summary statistics of profiles with at least one detectable face\n",
      "count    8132.000000\n",
      "mean        3.016724\n",
      "std         1.344842\n",
      "min         1.000000\n",
      "25%         2.000000\n",
      "50%         3.000000\n",
      "75%         4.000000\n",
      "max        10.000000\n",
      "dtype: float64\n"
     ]
    },
    {
     "data": {
      "text/plain": [
       "(array([[-0.07519082, -0.1175426 ,  0.00910136, ..., -0.04927163,\n",
       "          0.16132113,  0.02999016],\n",
       "        [-0.04950605, -0.12248475,  0.10829028, ..., -0.03049106,\n",
       "          0.10351217,  0.02096421],\n",
       "        [-0.04570645, -0.14027619,  0.05136904, ..., -0.00679946,\n",
       "          0.09228221,  0.07515998],\n",
       "        ...,\n",
       "        [-0.03237536, -0.10986029, -0.05273964, ..., -0.04715952,\n",
       "          0.13395712, -0.00100789],\n",
       "        [ 0.01070913, -0.12045956,  0.07860527, ..., -0.03334678,\n",
       "          0.03928874,  0.03627693],\n",
       "        [-0.14070714, -0.06604623,  0.02883334, ..., -0.03452408,\n",
       "          0.07793716,  0.08409154]]),\n",
       " array([1., 0., 0., ..., 1., 0., 0.]))"
      ]
     },
     "execution_count": 4,
     "metadata": {},
     "output_type": "execute_result"
    }
   ],
   "source": [
    "calc_avg_median_min_max_emb('med')"
   ]
  },
  {
   "cell_type": "code",
   "execution_count": 5,
   "id": "56139b65",
   "metadata": {},
   "outputs": [
    {
     "name": "stdout",
     "output_type": "stream",
     "text": [
      "Summary statistics of profiles with at least one detectable face\n",
      "count    8132.000000\n",
      "mean        3.016724\n",
      "std         1.344842\n",
      "min         1.000000\n",
      "25%         2.000000\n",
      "50%         3.000000\n",
      "75%         4.000000\n",
      "max        10.000000\n",
      "dtype: float64\n"
     ]
    },
    {
     "data": {
      "text/plain": [
       "(array([[-0.16156808, -0.14350794, -0.06150156, ..., -0.10977097,\n",
       "         -0.0345649 , -0.06470353],\n",
       "        [-0.13569221, -0.16158943, -0.03907607, ..., -0.15398456,\n",
       "          0.0323486 , -0.0034484 ],\n",
       "        [-0.17538778, -0.17867057, -0.04985062, ..., -0.08998743,\n",
       "         -0.0204369 ,  0.00045404],\n",
       "        ...,\n",
       "        [-0.03237536, -0.10986029, -0.05273964, ..., -0.04715952,\n",
       "          0.13395712, -0.00100789],\n",
       "        [ 0.01070913, -0.12045956,  0.07860527, ..., -0.03334678,\n",
       "          0.03928874,  0.03627693],\n",
       "        [-0.14070714, -0.06604623,  0.02883334, ..., -0.03452408,\n",
       "          0.07793716,  0.08409154]]),\n",
       " array([1., 0., 0., ..., 1., 0., 0.]))"
      ]
     },
     "execution_count": 5,
     "metadata": {},
     "output_type": "execute_result"
    }
   ],
   "source": [
    "calc_avg_median_min_max_emb('min')"
   ]
  },
  {
   "cell_type": "code",
   "execution_count": 9,
   "id": "0751a0f6",
   "metadata": {},
   "outputs": [
    {
     "name": "stdout",
     "output_type": "stream",
     "text": [
      "Summary statistics of profiles with at least one detectable face\n",
      "count    8132.000000\n",
      "mean        3.016724\n",
      "std         1.344842\n",
      "min         1.000000\n",
      "25%         2.000000\n",
      "50%         3.000000\n",
      "75%         4.000000\n",
      "max        10.000000\n",
      "dtype: float64\n"
     ]
    },
    {
     "data": {
      "text/plain": [
       "(array([[-3.64640951e-02, -2.99430992e-02,  1.47484884e-01, ...,\n",
       "          5.72989011e-05,  1.97387069e-01,  1.22476779e-01],\n",
       "        [-2.04319265e-02, -3.70282605e-02,  1.65327847e-01, ...,\n",
       "          1.57932658e-02,  1.59090877e-01,  9.91048589e-02],\n",
       "        [ 1.76914427e-02, -4.80225757e-02,  1.42027855e-01, ...,\n",
       "          5.95916361e-02,  1.62869394e-01,  9.80631709e-02],\n",
       "        ...,\n",
       "        [-3.23753580e-02, -1.09860294e-01, -5.27396388e-02, ...,\n",
       "         -4.71595190e-02,  1.33957118e-01, -1.00788940e-03],\n",
       "        [ 1.07091265e-02, -1.20459564e-01,  7.86052719e-02, ...,\n",
       "         -3.33467834e-02,  3.92887369e-02,  3.62769328e-02],\n",
       "        [-1.40707135e-01, -6.60462305e-02,  2.88333446e-02, ...,\n",
       "         -3.45240794e-02,  7.79371560e-02,  8.40915442e-02]]),\n",
       " array([1., 0., 0., ..., 1., 0., 0.]))"
      ]
     },
     "execution_count": 9,
     "metadata": {},
     "output_type": "execute_result"
    }
   ],
   "source": [
    "calc_avg_median_min_max_emb('max')"
   ]
  },
  {
   "cell_type": "code",
   "execution_count": 26,
   "id": "51dee2aa",
   "metadata": {},
   "outputs": [],
   "source": [
    "test = np.load('embeddings_avg_profile.npy')"
   ]
  },
  {
   "cell_type": "code",
   "execution_count": 27,
   "id": "dbd4f9fa",
   "metadata": {},
   "outputs": [
    {
     "data": {
      "text/plain": [
       "array([[-0.05853227, -0.11806552,  0.07782066, ..., -0.0591709 ,\n",
       "         0.08974024,  0.0368584 ],\n",
       "       [-0.08516855, -0.09600114,  0.01026062, ..., -0.04686027,\n",
       "         0.13399077,  0.03843595],\n",
       "       [-0.05148031, -0.12753478,  0.04967365, ..., -0.01158976,\n",
       "         0.08626623,  0.06416689],\n",
       "       ...,\n",
       "       [-0.11954832, -0.1497782 ,  0.03150699, ..., -0.04784435,\n",
       "         0.12846121,  0.05353893],\n",
       "       [-0.14195977, -0.15345845, -0.02911944, ..., -0.12719192,\n",
       "         0.08549877,  0.07585432],\n",
       "       [-0.06043478, -0.07862287, -0.00925292, ..., -0.094113  ,\n",
       "         0.17042097, -0.00050174]])"
      ]
     },
     "execution_count": 27,
     "metadata": {},
     "output_type": "execute_result"
    }
   ],
   "source": [
    "test"
   ]
  },
  {
   "cell_type": "code",
   "execution_count": 28,
   "id": "84f598c2",
   "metadata": {},
   "outputs": [
    {
     "data": {
      "text/plain": [
       "array(['TinderOneFaceOnlyFullImage/dislike/538682af0b20d3bd4f4fdfa4.3.jpg',\n",
       "       'TinderOneFaceOnlyFullImage/dislike/569d83d19d0fe9aa65d64cb7.3.jpg',\n",
       "       'TinderOneFaceOnlyFullImage/dislike/540b8f9a9cdc8cc8057950ea.2.jpg',\n",
       "       ...,\n",
       "       'TinderOneFaceOnlyFullImage/like/557de782f10f41b474601c0e.2.jpg',\n",
       "       'TinderOneFaceOnlyFullImage/like/57478c476c3e8a230f579f1f.3.jpg',\n",
       "       'TinderOneFaceOnlyFullImage/like/5797e2c3143e5a9b4e00342d.2.jpg'],\n",
       "      dtype='<U65')"
      ]
     },
     "execution_count": 28,
     "metadata": {},
     "output_type": "execute_result"
    }
   ],
   "source": [
    "np.load('image_list.npy')"
   ]
  },
  {
   "cell_type": "code",
   "execution_count": 46,
   "id": "583efa0b",
   "metadata": {},
   "outputs": [
    {
     "name": "stdout",
     "output_type": "stream",
     "text": [
      "Index(['5391397b56ba04880e01556f', '54d03eaafacf3c333e834320',\n",
      "       '52f6de9d5c136c8b1100073c', '5722978e2083727d14a8cdf7',\n",
      "       '57cb7f135ada1cd40f0ed234', '57a7d52be117913218c04d82',\n",
      "       '57e2154535fbeedd0d6e53b3', '572a66f0c52fda630be545e5',\n",
      "       '5781ee0a3fd7621d0a663960', '57c7b817e5c527fe1724b4bc',\n",
      "       ...\n",
      "       '57d491310360bdb978cd2242', '57c1295ab282c040114d1bcf',\n",
      "       '57c2520f9b343b4711b81cd4', '576d761c9a3bd981127cea5a',\n",
      "       '57e75e11bdf2a39b6cc300c4', '57c6491bfb390b83297c87f3',\n",
      "       '53379031b0f3034b10003f75', '57d2f49d663f5ac6190612aa',\n",
      "       '5787234345c266f309756624', '53d03d65cd75727b03c0831e'],\n",
      "      dtype='object', length=8132)\n"
     ]
    }
   ],
   "source": [
    "    image_list = np.load('image_list.npy', allow_pickle=True)\n",
    "\n",
    "    # determine the n dimension of embeddings\n",
    "    n_emb = embeddings.shape[1]\n",
    "\n",
    "    # find the maximum number of images in a profile\n",
    "    split_image_list = []\n",
    "    profile_list = []\n",
    "    for i in image_list:\n",
    "        split_image_list.append(i.split('.')[1])\n",
    "        profile_list.append(i.split('.')[0])\n",
    "    pl = pd.Index(profile_list)\n",
    "    pl_unique = pl.value_counts()\n",
    "    print(pl_unique.index.str.split('/').str[-1])"
   ]
  },
  {
   "cell_type": "code",
   "execution_count": 47,
   "id": "db26f1f0",
   "metadata": {},
   "outputs": [],
   "source": [
    "np.save('image_id.npy', pl_unique.index.str.split('/').str[-1])"
   ]
  },
  {
   "cell_type": "code",
   "execution_count": 50,
   "id": "f867a1bf",
   "metadata": {},
   "outputs": [
    {
     "data": {
      "text/plain": [
       "8132"
      ]
     },
     "execution_count": 50,
     "metadata": {},
     "output_type": "execute_result"
    }
   ],
   "source": [
    "# len(np.load('image_id.npy',allow_pickle=True))"
   ]
  },
  {
   "cell_type": "code",
   "execution_count": null,
   "id": "9f18c5db",
   "metadata": {},
   "outputs": [],
   "source": []
  }
 ],
 "metadata": {
  "kernelspec": {
   "display_name": "conda_tensorflow_p36",
   "language": "python",
   "name": "conda_tensorflow_p36"
  },
  "language_info": {
   "codemirror_mode": {
    "name": "ipython",
    "version": 3
   },
   "file_extension": ".py",
   "mimetype": "text/x-python",
   "name": "python",
   "nbconvert_exporter": "python",
   "pygments_lexer": "ipython3",
   "version": "3.6.13"
  }
 },
 "nbformat": 4,
 "nbformat_minor": 5
}
